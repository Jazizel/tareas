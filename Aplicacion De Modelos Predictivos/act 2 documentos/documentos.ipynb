{
  "nbformat": 4,
  "nbformat_minor": 0,
  "metadata": {
    "colab": {
      "provenance": []
    },
    "kernelspec": {
      "name": "python3",
      "display_name": "Python 3"
    },
    "language_info": {
      "name": "python"
    }
  },
  "cells": [
    {
      "cell_type": "code",
      "source": [
        "import pandas as pd\n",
        "from datetime import datetime\n",
        "from docxtpl import DocxTemplate, InlineImage\n",
        "from docx.shared import Inches\n",
        "import os\n",
        "doc = DocxTemplate(\"jaziel.docx\")\n",
        "fecha = datetime.today().strftime(\"%d %b, %Y\")\n",
        "try:\n",
        "    df = pd.read_csv('data.csv')\n",
        "except FileNotFoundError:\n",
        "    print(\"Error: No se pudo encontrar el archivo CSV 'data.csv'. Verifica la ruta.\")\n",
        "    exit()\n",
        "directorio_imagenes = \"/content/imgenes/\"\n",
        "nombre_imagen = \"imagen.png\"\n",
        "ruta_imagen = os.path.join(directorio_imagenes, nombre_imagen)\n",
        "imagen = InlineImage(doc, ruta_imagen, width=Inches(1))\n",
        "for index, fila in df.iterrows():\n",
        "    my_context = {\n",
        "        'fecha': fecha,\n",
        "        'imagen': imagen\n",
        "    }\n",
        "    context = {\n",
        "        'nombre': fila['nombre'],\n",
        "        'matricula': fila['matricula'],\n",
        "        'correo': fila['correo'],\n",
        "        'papd': fila['papd'],\n",
        "        'tda': fila['tda'],\n",
        "        'english2': fila['english2'],\n",
        "        'amp': fila['amp'],\n",
        "        'aln': fila['aln'],\n",
        "    }\n",
        "\n",
        "    context.update(my_context)\n",
        "    doc.render(context)\n",
        "    doc.save(f\"doc_generado_{index}.docx\")"
      ],
      "metadata": {
        "id": "zENkLEF7gt4b"
      },
      "execution_count": 38,
      "outputs": []
    }
  ]
}